{
 "cells": [
  {
   "cell_type": "code",
   "id": "initial_id",
   "metadata": {
    "collapsed": true,
    "ExecuteTime": {
     "end_time": "2025-05-26T08:42:50.066734Z",
     "start_time": "2025-05-26T08:42:44.743744Z"
    }
   },
   "source": [
    "import os\n",
    "import pickle\n",
    "from glob import glob\n",
    "from joblib import dump, load\n",
    "import matplotlib.pyplot as plt\n",
    "import numpy as np\n",
    "import pandas as pd\n",
    "import xgboost as xgb\n",
    "from scipy.stats import randint\n",
    "from sklearn.ensemble import RandomForestClassifier, GradientBoostingClassifier, VotingClassifier\n",
    "from sklearn.metrics import classification_report, accuracy_score, confusion_matrix, ConfusionMatrixDisplay, f1_score, balanced_accuracy_score\n",
    "from sklearn.model_selection import train_test_split, learning_curve, cross_val_score, RandomizedSearchCV, GridSearchCV\n",
    "from sklearn.neural_network import MLPClassifier\n",
    "from sklearn.preprocessing import StandardScaler\n",
    "from sklearn.svm import SVC\n",
    "from sklearn.utils import class_weight\n",
    "from tensorflow.keras import regularizers\n",
    "from tensorflow.keras.callbacks import EarlyStopping\n",
    "from tensorflow.keras.layers import LSTM, Dense, Dropout, BatchNormalization, LeakyReLU, Masking\n",
    "from tensorflow.keras.models import Sequential\n",
    "from tensorflow.keras.optimizers import Adam\n",
    "from tensorflow.keras.preprocessing.sequence import pad_sequences\n",
    "from tensorflow.keras.utils import to_categorical"
   ],
   "outputs": [],
   "execution_count": 1
  },
  {
   "metadata": {
    "ExecuteTime": {
     "end_time": "2025-05-09T20:08:24.826478Z",
     "start_time": "2025-05-09T20:08:24.762987Z"
    }
   },
   "cell_type": "code",
   "source": [
    "base_path = \"datasets\"\n",
    "dataframe = pd.DataFrame()\n",
    "for filename in os.listdir(base_path):\n",
    "    df = pd.read_pickle(f\"{base_path}/{filename}\")\n",
    "    dataframe = pd.concat([dataframe, df], ignore_index=True)\n",
    "\n",
    "print(dataframe)\n",
    "X = dataframe.drop(columns=[\"label\"])\n",
    "y = dataframe[\"label\"]"
   ],
   "id": "2234e788c44d7f00",
   "outputs": [
    {
     "name": "stdout",
     "output_type": "stream",
     "text": [
      "       label  activity_count  heart_rate_std  circadian_cycle  hour_of_sleep\n",
      "0          0        0.000000        0.351612        -0.258819       0.000000\n",
      "1          0        0.000000        0.336348        -0.260926       0.008333\n",
      "2          0        0.000000        0.322797        -0.263031       0.016667\n",
      "3          0        0.001274        0.310572        -0.265135       0.025000\n",
      "4          0        0.009708        0.299694        -0.267238       0.033333\n",
      "...      ...             ...             ...              ...            ...\n",
      "25487      0       39.463964        1.354808        -0.969231       5.950000\n",
      "25488      0       45.298359        1.305649        -0.968692       5.958333\n",
      "25489      0       49.129194        1.256232        -0.968148       5.966667\n",
      "25490      0       50.419222        1.257577        -0.967599       5.975000\n",
      "25491      0       49.070902        1.309048        -0.967046       5.983333\n",
      "\n",
      "[25492 rows x 5 columns]\n"
     ]
    }
   ],
   "execution_count": 2
  },
  {
   "metadata": {
    "ExecuteTime": {
     "end_time": "2025-05-07T21:51:10.470120Z",
     "start_time": "2025-05-07T21:50:58.794357Z"
    }
   },
   "cell_type": "code",
   "source": [
    "X_train, X_test, y_train, y_test = train_test_split(X, y, stratify=y, test_size=0.2, random_state=42)\n",
    "\n",
    "# clf = RandomForestClassifier(n_estimators=200, max_depth=30, max_features=None, min_samples_leaf=1, min_samples_split=2, random_state=42)\n",
    "# Train accuracy: 1.0000\n",
    "# Test accuracy: 0.8236\n",
    "# clf = RandomForestClassifier(n_estimators=200, max_depth=20, max_features=None, min_samples_leaf=2, min_samples_split=2, random_state=42)\n",
    "# Train accuracy: 0.9677\n",
    "# Test accuracy: 0.8226\n",
    "# clf = RandomForestClassifier(n_estimators=200, max_depth=15, max_features=None, min_samples_leaf=3, min_samples_split=2, random_state=42)\n",
    "# Train accuracy: 0.9019\n",
    "# Test accuracy: 0.8103\n",
    "# sel:\n",
    "# Train accuracy: 0.8692\n",
    "# Test accuracy: 0.7967\n",
    "\n",
    "# model bardzo często rozpoznawał klasę 1, a pomijał 0 oraz 2 - stąd wagi\n",
    "clf = RandomForestClassifier(n_estimators=200, max_depth=10, max_features=None, min_samples_leaf=4, min_samples_split=2, random_state=42, class_weight={0: 2, 1: 1, 2: 2})\n",
    "# Train accuracy: 0.8003\n",
    "# Test accuracy: 0.7746\n",
    "# sel:\n",
    "# Train accuracy: 0.7877\n",
    "# Test accuracy: 0.7687\n",
    "# wagi klas:\n",
    "# Train accuracy: 0.7741\n",
    "# Test accuracy: 0.7493\n",
    "\n",
    "# Redukcja liczby cech / selekcja cech\n",
    "# sfm = SelectFromModel(clf).fit(X_train, y_train)\n",
    "# X_train_sel = sfm.transform(X_train)\n",
    "# X_test_sel = sfm.transform(X_test)\n",
    "clf.fit(X_train, y_train)\n",
    "\n",
    "y_pred = clf.predict(X_test)\n",
    "print(classification_report(y_test, y_pred))\n",
    "print(accuracy_score(y_test, y_pred))"
   ],
   "id": "a9013bb7fb89edf3",
   "outputs": [
    {
     "name": "stdout",
     "output_type": "stream",
     "text": [
      "              precision    recall  f1-score   support\n",
      "\n",
      "           0       0.69      0.58      0.63       433\n",
      "           1       0.86      0.80      0.83      3558\n",
      "           2       0.52      0.68      0.59      1108\n",
      "\n",
      "    accuracy                           0.75      5099\n",
      "   macro avg       0.69      0.68      0.68      5099\n",
      "weighted avg       0.77      0.75      0.76      5099\n",
      "\n",
      "0.7525004902922141\n"
     ]
    }
   ],
   "execution_count": 72
  },
  {
   "metadata": {
    "ExecuteTime": {
     "end_time": "2025-05-07T21:48:19.685022Z",
     "start_time": "2025-05-07T21:48:19.663581Z"
    }
   },
   "cell_type": "code",
   "source": [
    "print(\"Balanced accuracy:\", balanced_accuracy_score(y_test, y_pred))\n",
    "print(\"Macro F1 score:\", f1_score(y_test, y_pred, average='macro'))"
   ],
   "id": "a92624ca617c6e80",
   "outputs": [
    {
     "name": "stdout",
     "output_type": "stream",
     "text": [
      "Balanced accuracy: 0.683197388894209\n",
      "Macro F1 score: 0.6817841974766803\n"
     ]
    }
   ],
   "execution_count": 64
  },
  {
   "metadata": {
    "ExecuteTime": {
     "end_time": "2025-05-07T21:48:20.261804Z",
     "start_time": "2025-05-07T21:48:19.783567Z"
    }
   },
   "cell_type": "code",
   "source": [
    "train_accuracy = clf.score(X_train, y_train)\n",
    "test_accuracy = clf.score(X_test, y_test)\n",
    "\n",
    "print(f\"Train accuracy: {train_accuracy:.4f}\")\n",
    "print(f\"Test accuracy: {test_accuracy:.4f}\")"
   ],
   "id": "9ffd35ed2ec1f877",
   "outputs": [
    {
     "name": "stdout",
     "output_type": "stream",
     "text": [
      "Train accuracy: 0.7900\n",
      "Test accuracy: 0.7525\n"
     ]
    }
   ],
   "execution_count": 65
  },
  {
   "metadata": {
    "ExecuteTime": {
     "end_time": "2025-05-07T21:51:23.213085Z",
     "start_time": "2025-05-07T21:51:23.181872Z"
    }
   },
   "cell_type": "code",
   "source": [
    "importances = clf.feature_importances_\n",
    "feature_imp_df = pd.DataFrame({\n",
    "    'Feature': [\"activity_count\", \"heart_rate_std\", \"circadian_cycle\", \"hour_of_sleep\"],\n",
    "    'Gini Importance': importances}\n",
    ").sort_values('Gini Importance', ascending=False)\n",
    "print(feature_imp_df)"
   ],
   "id": "cf432cc470c700cb",
   "outputs": [
    {
     "name": "stdout",
     "output_type": "stream",
     "text": [
      "           Feature  Gini Importance\n",
      "1   heart_rate_std         0.389202\n",
      "3    hour_of_sleep         0.262685\n",
      "0   activity_count         0.181147\n",
      "2  circadian_cycle         0.166965\n"
     ]
    }
   ],
   "execution_count": 73
  },
  {
   "metadata": {
    "ExecuteTime": {
     "end_time": "2025-05-07T21:46:48.151646Z",
     "start_time": "2025-05-07T21:46:47.936635Z"
    }
   },
   "cell_type": "code",
   "source": [
    "# bez zbalansowania klas\n",
    "cm = confusion_matrix(y_test, y_pred)\n",
    "disp = ConfusionMatrixDisplay(confusion_matrix=cm)\n",
    "disp.plot()"
   ],
   "id": "2a0e6b3beb3ccccc",
   "outputs": [
    {
     "data": {
      "text/plain": [
       "<sklearn.metrics._plot.confusion_matrix.ConfusionMatrixDisplay at 0x237ac9b71f0>"
      ]
     },
     "execution_count": 56,
     "metadata": {},
     "output_type": "execute_result"
    },
    {
     "data": {
      "text/plain": [
       "<Figure size 640x480 with 2 Axes>"
      ],
      "image/png": "[encoded data removed]"
     },
     "metadata": {},
     "output_type": "display_data"
    }
   ],
   "execution_count": 56
  },
  {
   "metadata": {
    "ExecuteTime": {
     "end_time": "2025-04-30T20:51:11.231846Z",
     "start_time": "2025-04-30T20:51:11.105174Z"
    }
   },
   "cell_type": "code",
   "source": [
    "# class_weight={0: 3, 1: 1, 2: 2}\n",
    "cm = confusion_matrix(y_test, y_pred)\n",
    "disp = ConfusionMatrixDisplay(confusion_matrix=cm)\n",
    "disp.plot()"
   ],
   "id": "b9aff69996433d46",
   "outputs": [
    {
     "data": {
      "text/plain": [
       "<sklearn.metrics._plot.confusion_matrix.ConfusionMatrixDisplay at 0x16dbeebb340>"
      ]
     },
     "execution_count": 59,
     "metadata": {},
     "output_type": "execute_result"
    },
    {
     "data": {
      "text/plain": [
       "<Figure size 640x480 with 2 Axes>"
      ],
      "image/png": "[encoded data removed]"
     },
     "metadata": {},
     "output_type": "display_data"
    }
   ],
   "execution_count": 59
  },
  {
   "metadata": {
    "ExecuteTime": {
     "end_time": "2025-05-07T21:48:27.530206Z",
     "start_time": "2025-05-07T21:48:27.343856Z"
    }
   },
   "cell_type": "code",
   "source": [
    "# class_weight={0: 2, 1: 1, 2: 2}\n",
    "cm = confusion_matrix(y_test, y_pred)\n",
    "disp = ConfusionMatrixDisplay(confusion_matrix=cm)\n",
    "disp.plot()"
   ],
   "id": "350c6b830269a5d5",
   "outputs": [
    {
     "data": {
      "text/plain": [
       "<sklearn.metrics._plot.confusion_matrix.ConfusionMatrixDisplay at 0x237adce5880>"
      ]
     },
     "execution_count": 66,
     "metadata": {},
     "output_type": "execute_result"
    },
    {
     "data": {
      "text/plain": [
       "<Figure size 640x480 with 2 Axes>"
      ],
      "image/png": "[encoded data removed]"
     },
     "metadata": {},
     "output_type": "display_data"
    }
   ],
   "execution_count": 66
  },
  {
   "metadata": {
    "ExecuteTime": {
     "end_time": "2025-05-07T21:49:07.272530Z",
     "start_time": "2025-05-07T21:48:31.010956Z"
    }
   },
   "cell_type": "code",
   "source": [
    "train_sizes, train_scores, test_scores = learning_curve(clf, X, y, cv=5, scoring='accuracy', n_jobs=-1)\n",
    "\n",
    "train_mean = np.mean(train_scores, axis=1)\n",
    "test_mean = np.mean(test_scores, axis=1)\n",
    "\n",
    "plt.plot(train_sizes, train_mean, label='Training accuracy')\n",
    "plt.plot(train_sizes, test_mean, label='Validation accuracy')\n",
    "plt.xlabel('Training set size')\n",
    "plt.ylabel('Accuracy')\n",
    "plt.title('Learning Curve')\n",
    "plt.legend()\n",
    "plt.grid()\n",
    "plt.show()"
   ],
   "id": "85fb4134c792daa0",
   "outputs": [
    {
     "data": {
      "text/plain": [
       "<Figure size 640x480 with 1 Axes>"
      ],
      "image/png": "[encoded data removed]"
     },
     "metadata": {},
     "output_type": "display_data"
    }
   ],
   "execution_count": 67
  },
  {
   "metadata": {
    "ExecuteTime": {
     "end_time": "2025-05-07T21:49:54.201672Z",
     "start_time": "2025-05-07T21:49:07.384051Z"
    }
   },
   "cell_type": "code",
   "source": [
    "scores = cross_val_score(clf, X, y, cv=5, scoring='accuracy')\n",
    "print(\"CV mean accuracy:\", scores.mean())\n",
    "print(\"CV std:\", scores.std())"
   ],
   "id": "c43251c4f281373d",
   "outputs": [
    {
     "name": "stdout",
     "output_type": "stream",
     "text": [
      "CV mean accuracy: 0.6655013856285024\n",
      "CV std: 0.025929187574490708\n"
     ]
    }
   ],
   "execution_count": 68
  },
  {
   "metadata": {},
   "cell_type": "markdown",
   "source": "Testowanie różnych modeli i ich wariantów",
   "id": "1c6ad5e1437bc63f"
  },
  {
   "metadata": {
    "ExecuteTime": {
     "end_time": "2025-04-30T21:09:35.848770Z",
     "start_time": "2025-04-30T21:09:34.964756Z"
    }
   },
   "cell_type": "code",
   "source": [
    "class_weights = class_weight.compute_class_weight('balanced', classes=np.unique(y_train), y=y_train)\n",
    "scale_pos_weights = dict(zip(np.unique(y_train), class_weights))\n",
    "print(scale_pos_weights)\n",
    "\n",
    "xgb_clf = xgb.XGBClassifier(\n",
    "    n_estimators=200,\n",
    "    max_depth=6,\n",
    "    learning_rate=0.1,\n",
    "    objective='multi:softmax',\n",
    "    num_class=3,\n",
    "    eval_metric='mlogloss',\n",
    "    use_label_encoder=False,\n",
    "    scale_pos_weight=scale_pos_weights,\n",
    "    random_state=42\n",
    ")\n",
    "\n",
    "xgb_clf.fit(X_train, y_train)\n",
    "y_pred = xgb_clf.predict(X_test)\n",
    "\n",
    "print(\"XGBoost Accuracy:\", accuracy_score(y_test, y_pred))\n",
    "print(classification_report(y_test, y_pred))\n",
    "\n",
    "train_accuracy = xgb_clf.score(X_train, y_train)\n",
    "test_accuracy = xgb_clf.score(X_test, y_test)\n",
    "print(f\"Train accuracy: {train_accuracy:.4f}\")\n",
    "print(f\"Test accuracy: {test_accuracy:.4f}\")\n",
    "\n",
    "cm = confusion_matrix(y_test, y_pred)\n",
    "disp = ConfusionMatrixDisplay(confusion_matrix=cm)\n",
    "disp.plot()"
   ],
   "id": "8e458eb91cde6724",
   "outputs": [
    {
     "name": "stderr",
     "output_type": "stream",
     "text": [
      "C:\\Users\\Gabi\\PycharmProjects\\sleep_classifiers\\venv\\lib\\site-packages\\xgboost\\core.py:158: UserWarning: [23:09:34] WARNING: C:\\buildkite-agent\\builds\\buildkite-windows-cpu-autoscaling-group-i-08cbc0333d8d4aae1-1\\xgboost\\xgboost-ci-windows\\src\\learner.cc:740: \n",
      "Parameters: { \"scale_pos_weight\", \"use_label_encoder\" } are not used.\n",
      "\n",
      "  warnings.warn(smsg, UserWarning)\n"
     ]
    },
    {
     "name": "stdout",
     "output_type": "stream",
     "text": [
      "XGBoost Accuracy: 0.7861487149303512\n",
      "              precision    recall  f1-score   support\n",
      "\n",
      "           0       0.83      0.51      0.63       431\n",
      "           1       0.81      0.92      0.86      3558\n",
      "           2       0.65      0.46      0.54      1108\n",
      "\n",
      "    accuracy                           0.79      5097\n",
      "   macro avg       0.76      0.63      0.68      5097\n",
      "weighted avg       0.78      0.79      0.77      5097\n",
      "\n",
      "Train accuracy: 0.8377\n",
      "Test accuracy: 0.7861\n"
     ]
    },
    {
     "data": {
      "text/plain": [
       "<sklearn.metrics._plot.confusion_matrix.ConfusionMatrixDisplay at 0x16dc9f72040>"
      ]
     },
     "execution_count": 91,
     "metadata": {},
     "output_type": "execute_result"
    },
    {
     "data": {
      "text/plain": [
       "<Figure size 640x480 with 2 Axes>"
      ],
      "image/png": "[encoded data removed]"
     },
     "metadata": {},
     "output_type": "display_data"
    }
   ],
   "execution_count": 91
  },
  {
   "metadata": {
    "ExecuteTime": {
     "end_time": "2025-04-30T21:30:06.288920Z",
     "start_time": "2025-04-30T21:29:56.431510Z"
    }
   },
   "cell_type": "code",
   "source": [
    "\n",
    "from sklearn.model_selection import train_test_split\n",
    "from sklearn.metrics import classification_report, accuracy_score\n",
    "\n",
    "X_train, X_test, y_train, y_test = train_test_split(X, y, test_size=0.2, random_state=42)\n",
    "\n",
    "# smote = SMOTE(random_state=42)\n",
    "# X_train, y_train = smote.fit_resample(X_train, y_train)\n",
    "\n",
    "xgb_clf = xgb.XGBClassifier(\n",
    "    n_estimators=200,\n",
    "    max_depth=18,\n",
    "    learning_rate=0.001,\n",
    "    objective='multi:softmax',\n",
    "    num_class=3,\n",
    "    eval_metric='mlogloss',\n",
    "    random_state=42\n",
    ")\n",
    "\n",
    "xgb_clf.fit(X_train, y_train)\n",
    "y_pred = xgb_clf.predict(X_test)\n",
    "\n",
    "print(\"XGBoost Accuracy:\", accuracy_score(y_test, y_pred))\n",
    "print(classification_report(y_test, y_pred))\n",
    "\n",
    "train_accuracy = xgb_clf.score(X_train, y_train)\n",
    "test_accuracy = xgb_clf.score(X_test, y_test)\n",
    "print(f\"Train accuracy: {train_accuracy:.4f}\")\n",
    "print(f\"Test accuracy: {test_accuracy:.4f}\")\n",
    "\n",
    "cm = confusion_matrix(y_test, y_pred)\n",
    "disp = ConfusionMatrixDisplay(confusion_matrix=cm)\n",
    "disp.plot()"
   ],
   "id": "4b21d52ceaa80982",
   "outputs": [
    {
     "name": "stdout",
     "output_type": "stream",
     "text": [
      "XGBoost Accuracy: 0.8059642927212085\n",
      "              precision    recall  f1-score   support\n",
      "\n",
      "           0       0.69      0.54      0.61       412\n",
      "           1       0.84      0.91      0.87      3563\n",
      "           2       0.70      0.59      0.64      1122\n",
      "\n",
      "    accuracy                           0.81      5097\n",
      "   macro avg       0.74      0.68      0.71      5097\n",
      "weighted avg       0.80      0.81      0.80      5097\n",
      "\n",
      "Train accuracy: 0.9243\n",
      "Test accuracy: 0.8060\n"
     ]
    },
    {
     "data": {
      "text/plain": [
       "<sklearn.metrics._plot.confusion_matrix.ConfusionMatrixDisplay at 0x16dcb2b4df0>"
      ]
     },
     "execution_count": 127,
     "metadata": {},
     "output_type": "execute_result"
    },
    {
     "data": {
      "text/plain": [
       "<Figure size 640x480 with 2 Axes>"
      ],
      "image/png": "[encoded data removed]"
     },
     "metadata": {},
     "output_type": "display_data"
    }
   ],
   "execution_count": 127
  },
  {
   "metadata": {
    "ExecuteTime": {
     "end_time": "2025-04-25T21:58:14.882898Z",
     "start_time": "2025-04-25T21:57:28.011145Z"
    }
   },
   "cell_type": "code",
   "source": [
    "scaler = StandardScaler()\n",
    "X_train_scaled = scaler.fit_transform(X_train)\n",
    "X_test_scaled = scaler.transform(X_test)\n",
    "\n",
    "# One-hot encoding etykiet\n",
    "num_classes = len(np.unique(y))\n",
    "y_train_cat = to_categorical(y_train, num_classes=num_classes)\n",
    "y_test_cat = to_categorical(y_test, num_classes=num_classes)\n",
    "\n",
    "model = Sequential([\n",
    "    Dense(512, activation='relu', input_shape=(X_train.shape[1],), kernel_regularizer=regularizers.l2(0.001)),\n",
    "    BatchNormalization(),\n",
    "    Dropout(0.4),\n",
    "\n",
    "    Dense(256, activation='relu', kernel_regularizer=regularizers.l2(0.001)),\n",
    "    BatchNormalization(),\n",
    "    Dropout(0.4),\n",
    "\n",
    "    Dense(128, activation='relu', kernel_regularizer=regularizers.l2(0.001)),\n",
    "    Dropout(0.4),\n",
    "\n",
    "    Dense(num_classes, activation='softmax')\n",
    "])\n",
    "\n",
    "\n",
    "model.compile(optimizer=Adam(learning_rate=0.0001),\n",
    "              loss='categorical_crossentropy',\n",
    "              metrics=['accuracy'])\n",
    "\n",
    "early_stopping = EarlyStopping(monitor='val_loss', patience=10, restore_best_weights=True)\n",
    "history = model.fit(X_train_scaled, y_train_cat,\n",
    "                    epochs=40,\n",
    "                    batch_size=64,\n",
    "                    validation_split=0.2,\n",
    "                    verbose=1,\n",
    "                    callbacks=[early_stopping])\n",
    "\n",
    "# Ewaluacja\n",
    "y_pred_proba = model.predict(X_test_scaled)\n",
    "y_pred = np.argmax(y_pred_proba, axis=1)\n",
    "\n",
    "print(classification_report(y_test, y_pred))\n",
    "print(\"Accuracy:\", accuracy_score(y_test, y_pred))"
   ],
   "id": "65bf590010209b00",
   "outputs": [
    {
     "name": "stdout",
     "output_type": "stream",
     "text": [
      "Epoch 1/40\n"
     ]
    },
    {
     "name": "stderr",
     "output_type": "stream",
     "text": [
      "C:\\Users\\Gabi\\PycharmProjects\\sleep_classifiers\\venv\\lib\\site-packages\\keras\\src\\layers\\core\\dense.py:87: UserWarning: Do not pass an `input_shape`/`input_dim` argument to a layer. When using Sequential models, prefer using an `Input(shape)` object as the first layer in the model instead.\n",
      "  super().__init__(activity_regularizer=activity_regularizer, **kwargs)\n"
     ]
    },
    {
     "name": "stdout",
     "output_type": "stream",
     "text": [
      "\u001B[1m255/255\u001B[0m \u001B[32m━━━━━━━━━━━━━━━━━━━━\u001B[0m\u001B[37m\u001B[0m \u001B[1m3s\u001B[0m 6ms/step - accuracy: 0.4202 - loss: 2.0462 - val_accuracy: 0.5009 - val_loss: 1.4453\n",
      "Epoch 2/40\n",
      "\u001B[1m255/255\u001B[0m \u001B[32m━━━━━━━━━━━━━━━━━━━━\u001B[0m\u001B[37m\u001B[0m \u001B[1m1s\u001B[0m 4ms/step - accuracy: 0.6533 - loss: 1.4097 - val_accuracy: 0.7317 - val_loss: 1.1200\n",
      "Epoch 3/40\n",
      "\u001B[1m255/255\u001B[0m \u001B[32m━━━━━━━━━━━━━━━━━━━━\u001B[0m\u001B[37m\u001B[0m \u001B[1m1s\u001B[0m 3ms/step - accuracy: 0.6601 - loss: 1.3427 - val_accuracy: 0.7361 - val_loss: 1.1156\n",
      "Epoch 4/40\n",
      "\u001B[1m255/255\u001B[0m \u001B[32m━━━━━━━━━━━━━━━━━━━━\u001B[0m\u001B[37m\u001B[0m \u001B[1m1s\u001B[0m 4ms/step - accuracy: 0.6745 - loss: 1.2698 - val_accuracy: 0.7366 - val_loss: 1.0991\n",
      "Epoch 5/40\n",
      "\u001B[1m255/255\u001B[0m \u001B[32m━━━━━━━━━━━━━━━━━━━━\u001B[0m\u001B[37m\u001B[0m \u001B[1m1s\u001B[0m 4ms/step - accuracy: 0.6779 - loss: 1.2396 - val_accuracy: 0.7412 - val_loss: 1.0805\n",
      "Epoch 6/40\n",
      "\u001B[1m255/255\u001B[0m \u001B[32m━━━━━━━━━━━━━━━━━━━━\u001B[0m\u001B[37m\u001B[0m \u001B[1m1s\u001B[0m 4ms/step - accuracy: 0.6858 - loss: 1.2037 - val_accuracy: 0.7390 - val_loss: 1.0688\n",
      "Epoch 7/40\n",
      "\u001B[1m255/255\u001B[0m \u001B[32m━━━━━━━━━━━━━━━━━━━━\u001B[0m\u001B[37m\u001B[0m \u001B[1m1s\u001B[0m 4ms/step - accuracy: 0.6851 - loss: 1.1945 - val_accuracy: 0.7351 - val_loss: 1.0565\n",
      "Epoch 8/40\n",
      "\u001B[1m255/255\u001B[0m \u001B[32m━━━━━━━━━━━━━━━━━━━━\u001B[0m\u001B[37m\u001B[0m \u001B[1m1s\u001B[0m 4ms/step - accuracy: 0.6935 - loss: 1.1618 - val_accuracy: 0.7393 - val_loss: 1.0444\n",
      "Epoch 9/40\n",
      "\u001B[1m255/255\u001B[0m \u001B[32m━━━━━━━━━━━━━━━━━━━━\u001B[0m\u001B[37m\u001B[0m \u001B[1m1s\u001B[0m 4ms/step - accuracy: 0.7102 - loss: 1.1196 - val_accuracy: 0.7356 - val_loss: 1.0329\n",
      "Epoch 10/40\n",
      "\u001B[1m255/255\u001B[0m \u001B[32m━━━━━━━━━━━━━━━━━━━━\u001B[0m\u001B[37m\u001B[0m \u001B[1m1s\u001B[0m 4ms/step - accuracy: 0.6898 - loss: 1.1308 - val_accuracy: 0.7390 - val_loss: 1.0202\n",
      "Epoch 11/40\n",
      "\u001B[1m255/255\u001B[0m \u001B[32m━━━━━━━━━━━━━━━━━━━━\u001B[0m\u001B[37m\u001B[0m \u001B[1m1s\u001B[0m 4ms/step - accuracy: 0.7109 - loss: 1.0895 - val_accuracy: 0.7420 - val_loss: 1.0100\n",
      "Epoch 12/40\n",
      "\u001B[1m255/255\u001B[0m \u001B[32m━━━━━━━━━━━━━━━━━━━━\u001B[0m\u001B[37m\u001B[0m \u001B[1m1s\u001B[0m 3ms/step - accuracy: 0.7084 - loss: 1.0865 - val_accuracy: 0.7405 - val_loss: 1.0008\n",
      "Epoch 13/40\n",
      "\u001B[1m255/255\u001B[0m \u001B[32m━━━━━━━━━━━━━━━━━━━━\u001B[0m\u001B[37m\u001B[0m \u001B[1m1s\u001B[0m 4ms/step - accuracy: 0.7209 - loss: 1.0648 - val_accuracy: 0.7442 - val_loss: 0.9873\n",
      "Epoch 14/40\n",
      "\u001B[1m255/255\u001B[0m \u001B[32m━━━━━━━━━━━━━━━━━━━━\u001B[0m\u001B[37m\u001B[0m \u001B[1m1s\u001B[0m 4ms/step - accuracy: 0.7144 - loss: 1.0470 - val_accuracy: 0.7461 - val_loss: 0.9787\n",
      "Epoch 15/40\n",
      "\u001B[1m255/255\u001B[0m \u001B[32m━━━━━━━━━━━━━━━━━━━━\u001B[0m\u001B[37m\u001B[0m \u001B[1m1s\u001B[0m 4ms/step - accuracy: 0.7084 - loss: 1.0399 - val_accuracy: 0.7491 - val_loss: 0.9665\n",
      "Epoch 16/40\n",
      "\u001B[1m255/255\u001B[0m \u001B[32m━━━━━━━━━━━━━━━━━━━━\u001B[0m\u001B[37m\u001B[0m \u001B[1m1s\u001B[0m 4ms/step - accuracy: 0.7139 - loss: 1.0326 - val_accuracy: 0.7466 - val_loss: 0.9547\n",
      "Epoch 17/40\n",
      "\u001B[1m255/255\u001B[0m \u001B[32m━━━━━━━━━━━━━━━━━━━━\u001B[0m\u001B[37m\u001B[0m \u001B[1m1s\u001B[0m 4ms/step - accuracy: 0.7128 - loss: 1.0167 - val_accuracy: 0.7437 - val_loss: 0.9443\n",
      "Epoch 18/40\n",
      "\u001B[1m255/255\u001B[0m \u001B[32m━━━━━━━━━━━━━━━━━━━━\u001B[0m\u001B[37m\u001B[0m \u001B[1m1s\u001B[0m 4ms/step - accuracy: 0.7211 - loss: 0.9975 - val_accuracy: 0.7417 - val_loss: 0.9350\n",
      "Epoch 19/40\n",
      "\u001B[1m255/255\u001B[0m \u001B[32m━━━━━━━━━━━━━━━━━━━━\u001B[0m\u001B[37m\u001B[0m \u001B[1m1s\u001B[0m 4ms/step - accuracy: 0.7122 - loss: 0.9912 - val_accuracy: 0.7479 - val_loss: 0.9212\n",
      "Epoch 20/40\n",
      "\u001B[1m255/255\u001B[0m \u001B[32m━━━━━━━━━━━━━━━━━━━━\u001B[0m\u001B[37m\u001B[0m \u001B[1m1s\u001B[0m 4ms/step - accuracy: 0.7201 - loss: 0.9631 - val_accuracy: 0.7439 - val_loss: 0.9113\n",
      "Epoch 21/40\n",
      "\u001B[1m255/255\u001B[0m \u001B[32m━━━━━━━━━━━━━━━━━━━━\u001B[0m\u001B[37m\u001B[0m \u001B[1m1s\u001B[0m 4ms/step - accuracy: 0.7160 - loss: 0.9548 - val_accuracy: 0.7425 - val_loss: 0.9001\n",
      "Epoch 22/40\n",
      "\u001B[1m255/255\u001B[0m \u001B[32m━━━━━━━━━━━━━━━━━━━━\u001B[0m\u001B[37m\u001B[0m \u001B[1m1s\u001B[0m 4ms/step - accuracy: 0.7192 - loss: 0.9481 - val_accuracy: 0.7449 - val_loss: 0.8870\n",
      "Epoch 23/40\n",
      "\u001B[1m255/255\u001B[0m \u001B[32m━━━━━━━━━━━━━━━━━━━━\u001B[0m\u001B[37m\u001B[0m \u001B[1m1s\u001B[0m 4ms/step - accuracy: 0.7249 - loss: 0.9308 - val_accuracy: 0.7476 - val_loss: 0.8765\n",
      "Epoch 24/40\n",
      "\u001B[1m255/255\u001B[0m \u001B[32m━━━━━━━━━━━━━━━━━━━━\u001B[0m\u001B[37m\u001B[0m \u001B[1m1s\u001B[0m 4ms/step - accuracy: 0.7249 - loss: 0.9160 - val_accuracy: 0.7444 - val_loss: 0.8630\n",
      "Epoch 25/40\n",
      "\u001B[1m255/255\u001B[0m \u001B[32m━━━━━━━━━━━━━━━━━━━━\u001B[0m\u001B[37m\u001B[0m \u001B[1m1s\u001B[0m 4ms/step - accuracy: 0.7250 - loss: 0.8979 - val_accuracy: 0.7452 - val_loss: 0.8521\n",
      "Epoch 26/40\n",
      "\u001B[1m255/255\u001B[0m \u001B[32m━━━━━━━━━━━━━━━━━━━━\u001B[0m\u001B[37m\u001B[0m \u001B[1m1s\u001B[0m 4ms/step - accuracy: 0.7285 - loss: 0.8893 - val_accuracy: 0.7452 - val_loss: 0.8416\n",
      "Epoch 27/40\n",
      "\u001B[1m255/255\u001B[0m \u001B[32m━━━━━━━━━━━━━━━━━━━━\u001B[0m\u001B[37m\u001B[0m \u001B[1m2s\u001B[0m 6ms/step - accuracy: 0.7249 - loss: 0.8805 - val_accuracy: 0.7501 - val_loss: 0.8297\n",
      "Epoch 28/40\n",
      "\u001B[1m255/255\u001B[0m \u001B[32m━━━━━━━━━━━━━━━━━━━━\u001B[0m\u001B[37m\u001B[0m \u001B[1m2s\u001B[0m 6ms/step - accuracy: 0.7265 - loss: 0.8681 - val_accuracy: 0.7471 - val_loss: 0.8191\n",
      "Epoch 29/40\n",
      "\u001B[1m255/255\u001B[0m \u001B[32m━━━━━━━━━━━━━━━━━━━━\u001B[0m\u001B[37m\u001B[0m \u001B[1m2s\u001B[0m 6ms/step - accuracy: 0.7290 - loss: 0.8455 - val_accuracy: 0.7469 - val_loss: 0.8091\n",
      "Epoch 30/40\n",
      "\u001B[1m255/255\u001B[0m \u001B[32m━━━━━━━━━━━━━━━━━━━━\u001B[0m\u001B[37m\u001B[0m \u001B[1m1s\u001B[0m 5ms/step - accuracy: 0.7184 - loss: 0.8447 - val_accuracy: 0.7466 - val_loss: 0.7996\n",
      "Epoch 31/40\n",
      "\u001B[1m255/255\u001B[0m \u001B[32m━━━━━━━━━━━━━━━━━━━━\u001B[0m\u001B[37m\u001B[0m \u001B[1m2s\u001B[0m 6ms/step - accuracy: 0.7270 - loss: 0.8370 - val_accuracy: 0.7498 - val_loss: 0.7907\n",
      "Epoch 32/40\n",
      "\u001B[1m255/255\u001B[0m \u001B[32m━━━━━━━━━━━━━━━━━━━━\u001B[0m\u001B[37m\u001B[0m \u001B[1m1s\u001B[0m 5ms/step - accuracy: 0.7273 - loss: 0.8302 - val_accuracy: 0.7474 - val_loss: 0.7819\n",
      "Epoch 33/40\n",
      "\u001B[1m255/255\u001B[0m \u001B[32m━━━━━━━━━━━━━━━━━━━━\u001B[0m\u001B[37m\u001B[0m \u001B[1m1s\u001B[0m 5ms/step - accuracy: 0.7283 - loss: 0.8109 - val_accuracy: 0.7469 - val_loss: 0.7727\n",
      "Epoch 34/40\n",
      "\u001B[1m255/255\u001B[0m \u001B[32m━━━━━━━━━━━━━━━━━━━━\u001B[0m\u001B[37m\u001B[0m \u001B[1m1s\u001B[0m 5ms/step - accuracy: 0.7335 - loss: 0.8002 - val_accuracy: 0.7491 - val_loss: 0.7637\n",
      "Epoch 35/40\n",
      "\u001B[1m255/255\u001B[0m \u001B[32m━━━━━━━━━━━━━━━━━━━━\u001B[0m\u001B[37m\u001B[0m \u001B[1m1s\u001B[0m 5ms/step - accuracy: 0.7243 - loss: 0.7989 - val_accuracy: 0.7486 - val_loss: 0.7540\n",
      "Epoch 36/40\n",
      "\u001B[1m255/255\u001B[0m \u001B[32m━━━━━━━━━━━━━━━━━━━━\u001B[0m\u001B[37m\u001B[0m \u001B[1m1s\u001B[0m 4ms/step - accuracy: 0.7303 - loss: 0.7912 - val_accuracy: 0.7474 - val_loss: 0.7477\n",
      "Epoch 37/40\n",
      "\u001B[1m255/255\u001B[0m \u001B[32m━━━━━━━━━━━━━━━━━━━━\u001B[0m\u001B[37m\u001B[0m \u001B[1m1s\u001B[0m 4ms/step - accuracy: 0.7298 - loss: 0.7725 - val_accuracy: 0.7432 - val_loss: 0.7413\n",
      "Epoch 38/40\n",
      "\u001B[1m255/255\u001B[0m \u001B[32m━━━━━━━━━━━━━━━━━━━━\u001B[0m\u001B[37m\u001B[0m \u001B[1m1s\u001B[0m 4ms/step - accuracy: 0.7284 - loss: 0.7666 - val_accuracy: 0.7481 - val_loss: 0.7325\n",
      "Epoch 39/40\n",
      "\u001B[1m255/255\u001B[0m \u001B[32m━━━━━━━━━━━━━━━━━━━━\u001B[0m\u001B[37m\u001B[0m \u001B[1m1s\u001B[0m 4ms/step - accuracy: 0.7343 - loss: 0.7647 - val_accuracy: 0.7493 - val_loss: 0.7241\n",
      "Epoch 40/40\n",
      "\u001B[1m255/255\u001B[0m \u001B[32m━━━━━━━━━━━━━━━━━━━━\u001B[0m\u001B[37m\u001B[0m \u001B[1m1s\u001B[0m 4ms/step - accuracy: 0.7336 - loss: 0.7570 - val_accuracy: 0.7434 - val_loss: 0.7210\n",
      "\u001B[1m160/160\u001B[0m \u001B[32m━━━━━━━━━━━━━━━━━━━━\u001B[0m\u001B[37m\u001B[0m \u001B[1m0s\u001B[0m 1ms/step\n",
      "              precision    recall  f1-score   support\n",
      "\n",
      "           0       0.74      0.46      0.56       431\n",
      "           1       0.77      0.92      0.84      3558\n",
      "           2       0.56      0.30      0.39      1108\n",
      "\n",
      "    accuracy                           0.74      5097\n",
      "   macro avg       0.69      0.56      0.60      5097\n",
      "weighted avg       0.72      0.74      0.72      5097\n",
      "\n",
      "Accuracy: 0.7433784579164214\n"
     ]
    }
   ],
   "execution_count": 5
  },
  {
   "metadata": {
    "ExecuteTime": {
     "end_time": "2025-04-25T22:09:34.920786Z",
     "start_time": "2025-04-25T22:09:15.533298Z"
    }
   },
   "cell_type": "code",
   "source": [
    "mlp = MLPClassifier(activation='relu',\n",
    "              hidden_layer_sizes=(15, 15, 15),\n",
    "              max_iter=1000, alpha=0.01, solver='lbfgs')\n",
    "mlp.fit(X_train_scaled, y_train_cat)\n",
    "\n",
    "y_pred_proba = mlp.predict(X_test_scaled)\n",
    "y_pred = np.argmax(y_pred_proba, axis=1)\n",
    "accuracy = accuracy_score(y_test, y_pred)\n",
    "print(f\"Accuracy: {accuracy*100:.2f}%\")\n",
    "\n",
    "class_report = classification_report(y_test, y_pred)\n",
    "print(\"Classification Report:\\n\", class_report)"
   ],
   "id": "76ad28aa409dec9d",
   "outputs": [
    {
     "name": "stdout",
     "output_type": "stream",
     "text": [
      "Accuracy: 73.16%\n",
      "Classification Report:\n",
      "               precision    recall  f1-score   support\n",
      "\n",
      "           0       0.45      0.55      0.50       431\n",
      "           1       0.78      0.90      0.84      3558\n",
      "           2       0.60      0.27      0.38      1108\n",
      "\n",
      "    accuracy                           0.73      5097\n",
      "   macro avg       0.61      0.57      0.57      5097\n",
      "weighted avg       0.72      0.73      0.71      5097\n",
      "\n"
     ]
    }
   ],
   "execution_count": 13
  },
  {
   "metadata": {
    "ExecuteTime": {
     "end_time": "2025-04-25T22:11:10.834775Z",
     "start_time": "2025-04-25T22:10:22.666238Z"
    }
   },
   "cell_type": "code",
   "source": [
    "mlp = MLPClassifier(activation='relu',\n",
    "                    hidden_layer_sizes=(50, 50, 50),  # Zwiększenie liczby neuronów i warstw\n",
    "                    max_iter=1000, alpha=0.01, solver='adam', random_state=42)\n",
    "mlp.fit(X_train_scaled, y_train_cat)\n",
    "\n",
    "y_pred_proba = mlp.predict(X_test_scaled)\n",
    "y_pred = np.argmax(y_pred_proba, axis=1)\n",
    "accuracy = accuracy_score(y_test, y_pred)\n",
    "print(f\"Accuracy: {accuracy*100:.2f}%\")"
   ],
   "id": "a941311210862c9e",
   "outputs": [
    {
     "name": "stdout",
     "output_type": "stream",
     "text": [
      "Accuracy: 73.49%\n"
     ]
    }
   ],
   "execution_count": 14
  },
  {
   "metadata": {
    "ExecuteTime": {
     "end_time": "2025-04-25T22:15:41.127559Z",
     "start_time": "2025-04-25T22:12:20.820256Z"
    }
   },
   "cell_type": "code",
   "source": [
    "mlp = MLPClassifier(activation='relu',\n",
    "                      hidden_layer_sizes=(100, 100, 100, 100),  # Więcej warstw\n",
    "                      max_iter=1000, alpha=0.01, solver='adam', random_state=42)\n",
    "mlp.fit(X_train_scaled, y_train_cat)\n",
    "\n",
    "y_pred_proba = mlp.predict(X_test_scaled)\n",
    "y_pred = np.argmax(y_pred_proba, axis=1)\n",
    "accuracy = accuracy_score(y_test, y_pred)\n",
    "print(f\"Accuracy: {accuracy*100:.2f}%\")"
   ],
   "id": "702ec6cc5f45d0e9",
   "outputs": [
    {
     "name": "stdout",
     "output_type": "stream",
     "text": [
      "Accuracy: 75.44%\n"
     ]
    }
   ],
   "execution_count": 17
  },
  {
   "metadata": {
    "ExecuteTime": {
     "end_time": "2025-04-25T22:16:32.818639Z",
     "start_time": "2025-04-25T22:16:27.540771Z"
    }
   },
   "cell_type": "code",
   "source": [
    "gbc = GradientBoostingClassifier(n_estimators=100, random_state=42)\n",
    "gbc.fit(X_train, y_train)\n",
    "y_pred = gbc.predict(X_test)\n",
    "print(accuracy_score(y_test, y_pred))"
   ],
   "id": "4d5b26fd1e941a5e",
   "outputs": [
    {
     "name": "stdout",
     "output_type": "stream",
     "text": [
      "0.7522071806945262\n"
     ]
    }
   ],
   "execution_count": 22
  },
  {
   "metadata": {
    "ExecuteTime": {
     "end_time": "2025-04-25T22:16:55.721407Z",
     "start_time": "2025-04-25T22:16:44.381609Z"
    }
   },
   "cell_type": "code",
   "source": [
    "svc = SVC(kernel='rbf', C=1, gamma='scale')\n",
    "svc.fit(X_train, y_train)\n",
    "y_pred = svc.predict(X_test)\n",
    "print(accuracy_score(y_test, y_pred))"
   ],
   "id": "bc0d408c9f6954cd",
   "outputs": [
    {
     "name": "stdout",
     "output_type": "stream",
     "text": [
      "0.709240729841083\n"
     ]
    }
   ],
   "execution_count": 23
  },
  {
   "metadata": {
    "ExecuteTime": {
     "end_time": "2025-04-25T22:59:41.010648Z",
     "start_time": "2025-04-25T22:59:32.825398Z"
    }
   },
   "cell_type": "code",
   "source": [
    "rf_clf = RandomForestClassifier(n_estimators=100, random_state=42)\n",
    "gb_clf = GradientBoostingClassifier(n_estimators=100, random_state=42)\n",
    "\n",
    "voting_clf = VotingClassifier(estimators=[('rf', rf_clf), ('gb', gb_clf)], voting='hard')\n",
    "voting_clf.fit(X_train_scaled, y_train)\n",
    "y_pred = voting_clf.predict(X_test_scaled)\n",
    "print(accuracy_score(y_test, y_pred))"
   ],
   "id": "d8f8d7def2fccfed",
   "outputs": [
    {
     "name": "stdout",
     "output_type": "stream",
     "text": [
      "0.7761428291151657\n"
     ]
    }
   ],
   "execution_count": 37
  },
  {
   "metadata": {
    "ExecuteTime": {
     "end_time": "2025-04-25T22:22:42.100189Z",
     "start_time": "2025-04-25T22:22:42.084444Z"
    }
   },
   "cell_type": "code",
   "source": [
    "scaler = StandardScaler()\n",
    "X_train_scaled = scaler.fit_transform(X_train)\n",
    "X_test_scaled = scaler.transform(X_test)"
   ],
   "id": "c3a09271bca6f6c3",
   "outputs": [],
   "execution_count": 29
  },
  {
   "metadata": {
    "ExecuteTime": {
     "end_time": "2025-04-25T22:22:58.989240Z",
     "start_time": "2025-04-25T22:22:56.279518Z"
    }
   },
   "cell_type": "code",
   "source": [
    "clf = RandomForestClassifier(n_estimators=100, random_state=42)\n",
    "clf.fit(X_train_scaled, y_train)\n",
    "\n",
    "y_pred = clf.predict(X_test_scaled)\n",
    "print(accuracy_score(y_test, y_pred))"
   ],
   "id": "34707b991edf2f59",
   "outputs": [
    {
     "name": "stdout",
     "output_type": "stream",
     "text": [
      "0.8187168922895821\n"
     ]
    }
   ],
   "execution_count": 31
  },
  {
   "metadata": {
    "ExecuteTime": {
     "end_time": "2025-04-25T22:58:56.193480Z",
     "start_time": "2025-04-25T22:23:17.092090Z"
    }
   },
   "cell_type": "code",
   "source": [
    "param_dist = {\n",
    "    'n_estimators': randint(100, 1000),\n",
    "    'max_depth': randint(10, 50),\n",
    "    'min_samples_split': randint(2, 20),\n",
    "    'min_samples_leaf': randint(1, 10),\n",
    "    'max_features': ['sqrt', 'log2', None],\n",
    "}\n",
    "\n",
    "random_search = RandomizedSearchCV(estimator=RandomForestClassifier(random_state=42), param_distributions=param_dist, n_iter=100, cv=5, n_jobs=-1, verbose=2)\n",
    "random_search.fit(X_train, y_train)\n",
    "\n",
    "print(\"Best parameters found: \", random_search.best_params_)\n",
    "best_model = random_search.best_estimator_"
   ],
   "id": "879a16888c5d3ca1",
   "outputs": [
    {
     "name": "stdout",
     "output_type": "stream",
     "text": [
      "Fitting 5 folds for each of 100 candidates, totalling 500 fits\n",
      "Best parameters found:  {'max_depth': 37, 'max_features': 'sqrt', 'min_samples_leaf': 1, 'min_samples_split': 2, 'n_estimators': 557}\n"
     ]
    }
   ],
   "execution_count": 34
  },
  {
   "metadata": {
    "ExecuteTime": {
     "end_time": "2025-04-25T23:00:33.183001Z",
     "start_time": "2025-04-25T23:00:32.630072Z"
    }
   },
   "cell_type": "code",
   "source": [
    "# Best parameters found:\n",
    "# max_depth=37\n",
    "# max_features='sqrt'\n",
    "# min_samples_leaf=1\n",
    "# min_samples_split=2\n",
    "# n_estimators=557\n",
    "y_pred = best_model.predict(X_test)\n",
    "print(accuracy_score(y_test, y_pred))"
   ],
   "id": "829cbc2c59809e76",
   "outputs": [
    {
     "name": "stdout",
     "output_type": "stream",
     "text": [
      "0.8220521875613106\n"
     ]
    }
   ],
   "execution_count": 39
  },
  {
   "metadata": {
    "ExecuteTime": {
     "end_time": "2025-04-25T23:47:19.799498Z",
     "start_time": "2025-04-25T23:09:29.110973Z"
    }
   },
   "cell_type": "code",
   "source": [
    "random_search = RandomizedSearchCV(estimator=RandomForestClassifier(random_state=42), param_distributions=param_dist, n_iter=100, cv=5, n_jobs=-1, verbose=2)\n",
    "random_search.fit(X_train_scaled, y_train)\n",
    "\n",
    "print(\"Best parameters found: \", random_search.best_params_)\n",
    "best_model_scaled = random_search.best_estimator_"
   ],
   "id": "37bab8e93b2b0345",
   "outputs": [
    {
     "name": "stdout",
     "output_type": "stream",
     "text": [
      "Fitting 5 folds for each of 100 candidates, totalling 500 fits\n",
      "Best parameters found:  {'max_depth': 29, 'max_features': 'sqrt', 'min_samples_leaf': 1, 'min_samples_split': 2, 'n_estimators': 686}\n"
     ]
    }
   ],
   "execution_count": 45
  },
  {
   "metadata": {
    "ExecuteTime": {
     "end_time": "2025-04-26T07:59:43.619224Z",
     "start_time": "2025-04-26T07:59:42.495040Z"
    }
   },
   "cell_type": "code",
   "source": [
    "y_pred = best_model_scaled.predict(X_test_scaled)\n",
    "print(accuracy_score(y_test, y_pred))"
   ],
   "id": "fb200486d53ee0a9",
   "outputs": [
    {
     "name": "stdout",
     "output_type": "stream",
     "text": [
      "0.8220521875613106\n"
     ]
    }
   ],
   "execution_count": 49
  },
  {
   "metadata": {
    "ExecuteTime": {
     "end_time": "2025-04-26T01:12:00.201630Z",
     "start_time": "2025-04-26T00:29:26.208785Z"
    }
   },
   "cell_type": "code",
   "source": [
    "param_grid = {\n",
    "    'n_estimators': [100, 200, 500],\n",
    "    'max_depth': [10, 20, 30],\n",
    "    'min_samples_split': [2, 5, 10],\n",
    "    'min_samples_leaf': [1, 2, 4],\n",
    "    'max_features': ['sqrt', 'log2', None],\n",
    "}\n",
    "\n",
    "grid_search = GridSearchCV(estimator=RandomForestClassifier(random_state=42), param_grid=param_grid, cv=5, n_jobs=-1, verbose=2)\n",
    "grid_search.fit(X_train_scaled, y_train)\n",
    "\n",
    "print(\"Best parameters found: \", grid_search.best_params_)\n",
    "best_model_grid = grid_search.best_estimator_\n"
   ],
   "id": "26ca2bc60e9b85e8",
   "outputs": [
    {
     "name": "stdout",
     "output_type": "stream",
     "text": [
      "Fitting 5 folds for each of 243 candidates, totalling 1215 fits\n",
      "Best parameters found:  {'max_depth': 30, 'max_features': None, 'min_samples_leaf': 1, 'min_samples_split': 2, 'n_estimators': 200}\n"
     ]
    }
   ],
   "execution_count": 47
  },
  {
   "metadata": {
    "ExecuteTime": {
     "end_time": "2025-04-26T08:00:11.668460Z",
     "start_time": "2025-04-26T08:00:11.418614Z"
    }
   },
   "cell_type": "code",
   "source": [
    "y_pred = best_model_grid.predict(X_test_scaled)\n",
    "print(accuracy_score(y_test, y_pred))"
   ],
   "id": "5b7b4e9e209ad35d",
   "outputs": [
    {
     "name": "stdout",
     "output_type": "stream",
     "text": [
      "0.8220521875613106\n"
     ]
    }
   ],
   "execution_count": 50
  },
  {
   "metadata": {
    "ExecuteTime": {
     "end_time": "2025-04-26T08:03:30.458412Z",
     "start_time": "2025-04-26T08:03:09.044393Z"
    }
   },
   "cell_type": "code",
   "source": [
    "clf = RandomForestClassifier(max_depth=100, max_features=None, min_samples_leaf=1, min_samples_split=2, n_estimators=300, random_state=42)\n",
    "clf.fit(X_train_scaled, y_train)\n",
    "\n",
    "y_pred = best_model_grid.predict(X_test_scaled)\n",
    "print(accuracy_score(y_test, y_pred))"
   ],
   "id": "d517c8d91f3da4cd",
   "outputs": [
    {
     "name": "stdout",
     "output_type": "stream",
     "text": [
      "0.8220521875613106\n"
     ]
    }
   ],
   "execution_count": 54
  },
  {
   "metadata": {
    "ExecuteTime": {
     "end_time": "2025-05-26T08:45:44.360757Z",
     "start_time": "2025-05-26T08:45:44.192149Z"
    }
   },
   "cell_type": "code",
   "source": [
    "id_ = 46343\n",
    "# features = []\n",
    "# for suffix in feature_suffixes:\n",
    "#     file_path = os.path.join(base_path, f\"{id_}_{suffix}.out\")\n",
    "#     if not os.path.exists(file_path):\n",
    "#         raise FileNotFoundError(f\"Brakuje pliku: {file_path}\")\n",
    "#     data = np.loadtxt(file_path)\n",
    "#     features.append(data)\n",
    "#\n",
    "# label_path = os.path.join(base_path, f\"{id_}_{label_suffix}.out\")\n",
    "# if not os.path.exists(label_path):\n",
    "#     raise FileNotFoundError(f\"Brakuje pliku: {label_path}\")\n",
    "# labels = np.loadtxt(label_path).astype(int)\n",
    "\n",
    "# Sprawdź, czy wszystkie cechy mają tyle samo próbek\n",
    "# min_len = min(len(f) for f in features + [labels])\n",
    "# features = [f[:min_len] for f in features]\n",
    "# labels = labels[:min_len]\n",
    "# labels = np.array([mapping[x] for x in labels])\n",
    "with open(r\"datasets/data_46343.pkl\", \"rb\") as input_file:\n",
    "    data = pickle.load(input_file)\n",
    "X = data.drop(\"label\", axis=1)\n",
    "labels = data[\"label\"]\n",
    "clf_loaded = load('model.joblib')\n",
    "# X = np.stack(features, axis=1)\n",
    "\n",
    "y_pred = clf_loaded.predict(X)\n",
    "print(accuracy_score(labels, y_pred))\n",
    "for i in range(y_pred.shape[0]):\n",
    "    print(f\"value: {list(labels)[i]}, prediction: {y_pred[i]}\")"
   ],
   "id": "db28356c6c1765c9",
   "outputs": [
    {
     "name": "stdout",
     "output_type": "stream",
     "text": [
      "0.7920433996383364\n",
      "value: 0, prediction: 0\n",
      "value: 0, prediction: 0\n",
      "value: 0, prediction: 0\n",
      "value: 0, prediction: 0\n",
      "value: 0, prediction: 0\n",
      "value: 0, prediction: 0\n",
      "value: 0, prediction: 0\n",
      "value: 0, prediction: 0\n",
      "value: 0, prediction: 0\n",
      "value: 0, prediction: 0\n",
      "value: 0, prediction: 0\n",
      "value: 0, prediction: 0\n",
      "value: 0, prediction: 0\n",
      "value: 0, prediction: 0\n",
      "value: 0, prediction: 0\n",
      "value: 0, prediction: 0\n",
      "value: 0, prediction: 0\n",
      "value: 0, prediction: 0\n",
      "value: 0, prediction: 0\n",
      "value: 0, prediction: 0\n",
      "value: 0, prediction: 0\n",
      "value: 0, prediction: 0\n",
      "value: 0, prediction: 0\n",
      "value: 0, prediction: 0\n",
      "value: 0, prediction: 0\n",
      "value: 0, prediction: 0\n",
      "value: 0, prediction: 0\n",
      "value: 0, prediction: 0\n",
      "value: 0, prediction: 0\n",
      "value: 0, prediction: 1\n",
      "value: 0, prediction: 1\n",
      "value: 0, prediction: 0\n",
      "value: 0, prediction: 1\n",
      "value: 0, prediction: 1\n",
      "value: 1, prediction: 1\n",
      "value: 1, prediction: 1\n",
      "value: 1, prediction: 1\n",
      "value: 1, prediction: 1\n",
      "value: 1, prediction: 1\n",
      "value: 1, prediction: 1\n",
      "value: 1, prediction: 1\n",
      "value: 1, prediction: 1\n",
      "value: 1, prediction: 1\n",
      "value: 1, prediction: 1\n",
      "value: 1, prediction: 1\n",
      "value: 1, prediction: 1\n",
      "value: 1, prediction: 1\n",
      "value: 1, prediction: 1\n",
      "value: 1, prediction: 1\n",
      "value: 1, prediction: 1\n",
      "value: 1, prediction: 1\n",
      "value: 1, prediction: 1\n",
      "value: 1, prediction: 1\n",
      "value: 1, prediction: 1\n",
      "value: 1, prediction: 1\n",
      "value: 1, prediction: 1\n",
      "value: 1, prediction: 1\n",
      "value: 1, prediction: 1\n",
      "value: 1, prediction: 1\n",
      "value: 1, prediction: 1\n",
      "value: 1, prediction: 1\n",
      "value: 1, prediction: 1\n",
      "value: 1, prediction: 1\n",
      "value: 1, prediction: 1\n",
      "value: 1, prediction: 1\n",
      "value: 1, prediction: 1\n",
      "value: 1, prediction: 1\n",
      "value: 1, prediction: 1\n",
      "value: 1, prediction: 1\n",
      "value: 1, prediction: 1\n",
      "value: 1, prediction: 1\n",
      "value: 1, prediction: 1\n",
      "value: 1, prediction: 1\n",
      "value: 1, prediction: 1\n",
      "value: 1, prediction: 1\n",
      "value: 1, prediction: 1\n",
      "value: 1, prediction: 1\n",
      "value: 1, prediction: 1\n",
      "value: 1, prediction: 1\n",
      "value: 1, prediction: 1\n",
      "value: 1, prediction: 1\n",
      "value: 1, prediction: 1\n",
      "value: 1, prediction: 1\n",
      "value: 1, prediction: 1\n",
      "value: 1, prediction: 1\n",
      "value: 1, prediction: 1\n",
      "value: 1, prediction: 1\n",
      "value: 1, prediction: 1\n",
      "value: 1, prediction: 1\n",
      "value: 1, prediction: 1\n",
      "value: 1, prediction: 1\n",
      "value: 1, prediction: 1\n",
      "value: 1, prediction: 1\n",
      "value: 1, prediction: 1\n",
      "value: 1, prediction: 1\n",
      "value: 1, prediction: 1\n",
      "value: 1, prediction: 1\n",
      "value: 1, prediction: 1\n",
      "value: 1, prediction: 1\n",
      "value: 1, prediction: 1\n",
      "value: 1, prediction: 1\n",
      "value: 1, prediction: 1\n",
      "value: 1, prediction: 1\n",
      "value: 1, prediction: 1\n",
      "value: 1, prediction: 1\n",
      "value: 1, prediction: 1\n",
      "value: 1, prediction: 1\n",
      "value: 1, prediction: 1\n",
      "value: 1, prediction: 1\n",
      "value: 1, prediction: 1\n",
      "value: 0, prediction: 1\n",
      "value: 0, prediction: 1\n",
      "value: 0, prediction: 1\n",
      "value: 0, prediction: 1\n",
      "value: 1, prediction: 1\n",
      "value: 1, prediction: 1\n",
      "value: 1, prediction: 1\n",
      "value: 1, prediction: 1\n",
      "value: 1, prediction: 1\n",
      "value: 1, prediction: 1\n",
      "value: 1, prediction: 1\n",
      "value: 1, prediction: 1\n",
      "value: 1, prediction: 1\n",
      "value: 1, prediction: 1\n",
      "value: 1, prediction: 1\n",
      "value: 1, prediction: 1\n",
      "value: 1, prediction: 1\n",
      "value: 1, prediction: 1\n",
      "value: 1, prediction: 1\n",
      "value: 1, prediction: 1\n",
      "value: 1, prediction: 1\n",
      "value: 1, prediction: 1\n",
      "value: 0, prediction: 1\n",
      "value: 1, prediction: 1\n",
      "value: 1, prediction: 1\n",
      "value: 2, prediction: 1\n",
      "value: 2, prediction: 1\n",
      "value: 2, prediction: 1\n",
      "value: 2, prediction: 1\n",
      "value: 2, prediction: 1\n",
      "value: 2, prediction: 1\n",
      "value: 2, prediction: 1\n",
      "value: 2, prediction: 2\n",
      "value: 2, prediction: 2\n",
      "value: 2, prediction: 2\n",
      "value: 2, prediction: 2\n",
      "value: 2, prediction: 1\n",
      "value: 2, prediction: 1\n",
      "value: 2, prediction: 1\n",
      "value: 2, prediction: 1\n",
      "value: 2, prediction: 1\n",
      "value: 2, prediction: 2\n",
      "value: 2, prediction: 2\n",
      "value: 2, prediction: 2\n",
      "value: 2, prediction: 2\n",
      "value: 2, prediction: 2\n",
      "value: 2, prediction: 2\n",
      "value: 2, prediction: 2\n",
      "value: 2, prediction: 2\n",
      "value: 2, prediction: 2\n",
      "value: 2, prediction: 2\n",
      "value: 2, prediction: 2\n",
      "value: 2, prediction: 2\n",
      "value: 2, prediction: 1\n",
      "value: 2, prediction: 1\n",
      "value: 2, prediction: 1\n",
      "value: 2, prediction: 1\n",
      "value: 2, prediction: 1\n",
      "value: 2, prediction: 1\n",
      "value: 2, prediction: 1\n",
      "value: 2, prediction: 1\n",
      "value: 2, prediction: 1\n",
      "value: 2, prediction: 1\n",
      "value: 2, prediction: 1\n",
      "value: 2, prediction: 1\n",
      "value: 2, prediction: 1\n",
      "value: 2, prediction: 1\n",
      "value: 2, prediction: 1\n",
      "value: 2, prediction: 1\n",
      "value: 2, prediction: 1\n",
      "value: 2, prediction: 1\n",
      "value: 2, prediction: 1\n",
      "value: 2, prediction: 1\n",
      "value: 2, prediction: 1\n",
      "value: 2, prediction: 1\n",
      "value: 2, prediction: 1\n",
      "value: 2, prediction: 1\n",
      "value: 2, prediction: 1\n",
      "value: 2, prediction: 1\n",
      "value: 2, prediction: 1\n",
      "value: 2, prediction: 1\n",
      "value: 2, prediction: 1\n",
      "value: 2, prediction: 1\n",
      "value: 2, prediction: 1\n",
      "value: 1, prediction: 1\n",
      "value: 1, prediction: 1\n",
      "value: 1, prediction: 1\n",
      "value: 1, prediction: 1\n",
      "value: 1, prediction: 1\n",
      "value: 1, prediction: 1\n",
      "value: 1, prediction: 1\n",
      "value: 1, prediction: 1\n",
      "value: 1, prediction: 1\n",
      "value: 1, prediction: 1\n",
      "value: 1, prediction: 1\n",
      "value: 1, prediction: 1\n",
      "value: 1, prediction: 1\n",
      "value: 1, prediction: 1\n",
      "value: 1, prediction: 1\n",
      "value: 1, prediction: 1\n",
      "value: 1, prediction: 1\n",
      "value: 1, prediction: 1\n",
      "value: 1, prediction: 1\n",
      "value: 1, prediction: 1\n",
      "value: 1, prediction: 1\n",
      "value: 1, prediction: 1\n",
      "value: 1, prediction: 1\n",
      "value: 1, prediction: 1\n",
      "value: 1, prediction: 1\n",
      "value: 1, prediction: 1\n",
      "value: 1, prediction: 1\n",
      "value: 1, prediction: 1\n",
      "value: 1, prediction: 1\n",
      "value: 1, prediction: 1\n",
      "value: 1, prediction: 1\n",
      "value: 1, prediction: 1\n",
      "value: 1, prediction: 1\n",
      "value: 1, prediction: 1\n",
      "value: 1, prediction: 1\n",
      "value: 1, prediction: 1\n",
      "value: 1, prediction: 1\n",
      "value: 1, prediction: 1\n",
      "value: 1, prediction: 1\n",
      "value: 1, prediction: 1\n",
      "value: 1, prediction: 1\n",
      "value: 1, prediction: 1\n",
      "value: 1, prediction: 1\n",
      "value: 1, prediction: 1\n",
      "value: 1, prediction: 1\n",
      "value: 1, prediction: 1\n",
      "value: 1, prediction: 1\n",
      "value: 1, prediction: 1\n",
      "value: 1, prediction: 1\n",
      "value: 1, prediction: 1\n",
      "value: 1, prediction: 1\n",
      "value: 1, prediction: 1\n",
      "value: 1, prediction: 1\n",
      "value: 1, prediction: 1\n",
      "value: 1, prediction: 1\n",
      "value: 1, prediction: 1\n",
      "value: 1, prediction: 1\n",
      "value: 1, prediction: 1\n",
      "value: 1, prediction: 1\n",
      "value: 1, prediction: 1\n",
      "value: 1, prediction: 1\n",
      "value: 1, prediction: 1\n",
      "value: 1, prediction: 1\n",
      "value: 1, prediction: 1\n",
      "value: 1, prediction: 1\n",
      "value: 1, prediction: 1\n",
      "value: 1, prediction: 1\n",
      "value: 1, prediction: 1\n",
      "value: 1, prediction: 1\n",
      "value: 1, prediction: 1\n",
      "value: 1, prediction: 1\n",
      "value: 1, prediction: 1\n",
      "value: 1, prediction: 1\n",
      "value: 1, prediction: 1\n",
      "value: 1, prediction: 1\n",
      "value: 1, prediction: 1\n",
      "value: 1, prediction: 1\n",
      "value: 1, prediction: 1\n",
      "value: 1, prediction: 1\n",
      "value: 1, prediction: 1\n",
      "value: 1, prediction: 1\n",
      "value: 1, prediction: 1\n",
      "value: 1, prediction: 1\n",
      "value: 1, prediction: 1\n",
      "value: 1, prediction: 1\n",
      "value: 1, prediction: 1\n",
      "value: 1, prediction: 1\n",
      "value: 1, prediction: 1\n",
      "value: 1, prediction: 1\n",
      "value: 1, prediction: 1\n",
      "value: 1, prediction: 1\n",
      "value: 1, prediction: 1\n",
      "value: 1, prediction: 1\n",
      "value: 1, prediction: 1\n",
      "value: 1, prediction: 1\n",
      "value: 1, prediction: 1\n",
      "value: 1, prediction: 1\n",
      "value: 1, prediction: 1\n",
      "value: 1, prediction: 1\n",
      "value: 1, prediction: 1\n",
      "value: 1, prediction: 1\n",
      "value: 1, prediction: 1\n",
      "value: 1, prediction: 1\n",
      "value: 1, prediction: 1\n",
      "value: 1, prediction: 1\n",
      "value: 1, prediction: 1\n",
      "value: 1, prediction: 1\n",
      "value: 1, prediction: 1\n",
      "value: 1, prediction: 1\n",
      "value: 1, prediction: 1\n",
      "value: 1, prediction: 1\n",
      "value: 0, prediction: 0\n",
      "value: 1, prediction: 1\n",
      "value: 1, prediction: 1\n",
      "value: 1, prediction: 1\n",
      "value: 1, prediction: 2\n",
      "value: 1, prediction: 1\n",
      "value: 1, prediction: 1\n",
      "value: 1, prediction: 1\n",
      "value: 1, prediction: 1\n",
      "value: 1, prediction: 1\n",
      "value: 1, prediction: 1\n",
      "value: 1, prediction: 1\n",
      "value: 1, prediction: 1\n",
      "value: 1, prediction: 1\n",
      "value: 1, prediction: 1\n",
      "value: 1, prediction: 1\n",
      "value: 1, prediction: 1\n",
      "value: 1, prediction: 1\n",
      "value: 1, prediction: 1\n",
      "value: 1, prediction: 1\n",
      "value: 1, prediction: 1\n",
      "value: 1, prediction: 1\n",
      "value: 1, prediction: 2\n",
      "value: 1, prediction: 2\n",
      "value: 2, prediction: 2\n",
      "value: 2, prediction: 2\n",
      "value: 2, prediction: 2\n",
      "value: 2, prediction: 2\n",
      "value: 2, prediction: 1\n",
      "value: 2, prediction: 1\n",
      "value: 2, prediction: 1\n",
      "value: 2, prediction: 1\n",
      "value: 2, prediction: 1\n",
      "value: 2, prediction: 1\n",
      "value: 2, prediction: 2\n",
      "value: 2, prediction: 2\n",
      "value: 2, prediction: 2\n",
      "value: 2, prediction: 2\n",
      "value: 2, prediction: 2\n",
      "value: 2, prediction: 2\n",
      "value: 2, prediction: 2\n",
      "value: 2, prediction: 2\n",
      "value: 2, prediction: 2\n",
      "value: 2, prediction: 2\n",
      "value: 2, prediction: 2\n",
      "value: 2, prediction: 2\n",
      "value: 2, prediction: 2\n",
      "value: 2, prediction: 1\n",
      "value: 2, prediction: 1\n",
      "value: 2, prediction: 1\n",
      "value: 2, prediction: 1\n",
      "value: 2, prediction: 2\n",
      "value: 2, prediction: 1\n",
      "value: 2, prediction: 2\n",
      "value: 2, prediction: 2\n",
      "value: 2, prediction: 2\n",
      "value: 2, prediction: 1\n",
      "value: 2, prediction: 1\n",
      "value: 2, prediction: 1\n",
      "value: 2, prediction: 1\n",
      "value: 2, prediction: 1\n",
      "value: 2, prediction: 1\n",
      "value: 2, prediction: 1\n",
      "value: 2, prediction: 1\n",
      "value: 2, prediction: 1\n",
      "value: 2, prediction: 1\n",
      "value: 2, prediction: 1\n",
      "value: 2, prediction: 1\n",
      "value: 2, prediction: 1\n",
      "value: 2, prediction: 1\n",
      "value: 2, prediction: 1\n",
      "value: 2, prediction: 1\n",
      "value: 2, prediction: 1\n",
      "value: 2, prediction: 1\n",
      "value: 2, prediction: 1\n",
      "value: 2, prediction: 1\n",
      "value: 2, prediction: 1\n",
      "value: 2, prediction: 1\n",
      "value: 2, prediction: 1\n",
      "value: 0, prediction: 1\n",
      "value: 1, prediction: 1\n",
      "value: 1, prediction: 1\n",
      "value: 1, prediction: 1\n",
      "value: 1, prediction: 1\n",
      "value: 1, prediction: 1\n",
      "value: 1, prediction: 1\n",
      "value: 1, prediction: 1\n",
      "value: 1, prediction: 1\n",
      "value: 1, prediction: 1\n",
      "value: 1, prediction: 1\n",
      "value: 1, prediction: 1\n",
      "value: 1, prediction: 0\n",
      "value: 0, prediction: 0\n",
      "value: 0, prediction: 0\n",
      "value: 0, prediction: 1\n",
      "value: 1, prediction: 1\n",
      "value: 1, prediction: 1\n",
      "value: 1, prediction: 1\n",
      "value: 1, prediction: 1\n",
      "value: 1, prediction: 1\n",
      "value: 1, prediction: 1\n",
      "value: 1, prediction: 1\n",
      "value: 1, prediction: 1\n",
      "value: 1, prediction: 1\n",
      "value: 1, prediction: 1\n",
      "value: 1, prediction: 1\n",
      "value: 1, prediction: 1\n",
      "value: 1, prediction: 1\n",
      "value: 1, prediction: 1\n",
      "value: 1, prediction: 1\n",
      "value: 1, prediction: 1\n",
      "value: 1, prediction: 1\n",
      "value: 1, prediction: 1\n",
      "value: 1, prediction: 1\n",
      "value: 1, prediction: 1\n",
      "value: 1, prediction: 1\n",
      "value: 1, prediction: 1\n",
      "value: 1, prediction: 1\n",
      "value: 1, prediction: 1\n",
      "value: 1, prediction: 1\n",
      "value: 1, prediction: 1\n",
      "value: 1, prediction: 1\n",
      "value: 1, prediction: 1\n",
      "value: 1, prediction: 1\n",
      "value: 1, prediction: 1\n",
      "value: 1, prediction: 1\n",
      "value: 1, prediction: 1\n",
      "value: 1, prediction: 1\n",
      "value: 1, prediction: 1\n",
      "value: 1, prediction: 1\n",
      "value: 1, prediction: 1\n",
      "value: 1, prediction: 1\n",
      "value: 1, prediction: 1\n",
      "value: 1, prediction: 1\n",
      "value: 1, prediction: 1\n",
      "value: 1, prediction: 1\n",
      "value: 1, prediction: 1\n",
      "value: 1, prediction: 1\n",
      "value: 1, prediction: 1\n",
      "value: 1, prediction: 1\n",
      "value: 1, prediction: 1\n",
      "value: 1, prediction: 1\n",
      "value: 1, prediction: 1\n",
      "value: 1, prediction: 1\n",
      "value: 1, prediction: 1\n",
      "value: 1, prediction: 1\n",
      "value: 1, prediction: 1\n",
      "value: 1, prediction: 1\n",
      "value: 1, prediction: 1\n",
      "value: 1, prediction: 1\n",
      "value: 1, prediction: 1\n",
      "value: 1, prediction: 1\n",
      "value: 1, prediction: 1\n",
      "value: 1, prediction: 1\n",
      "value: 1, prediction: 1\n",
      "value: 1, prediction: 1\n",
      "value: 0, prediction: 0\n",
      "value: 0, prediction: 0\n",
      "value: 1, prediction: 1\n",
      "value: 1, prediction: 1\n",
      "value: 1, prediction: 1\n",
      "value: 1, prediction: 1\n",
      "value: 1, prediction: 1\n",
      "value: 1, prediction: 1\n",
      "value: 1, prediction: 1\n",
      "value: 1, prediction: 1\n",
      "value: 1, prediction: 1\n",
      "value: 1, prediction: 2\n",
      "value: 1, prediction: 1\n",
      "value: 1, prediction: 1\n",
      "value: 1, prediction: 1\n",
      "value: 1, prediction: 1\n",
      "value: 1, prediction: 1\n",
      "value: 1, prediction: 1\n",
      "value: 1, prediction: 1\n",
      "value: 1, prediction: 1\n",
      "value: 1, prediction: 1\n",
      "value: 1, prediction: 1\n",
      "value: 1, prediction: 1\n",
      "value: 1, prediction: 1\n",
      "value: 1, prediction: 1\n",
      "value: 1, prediction: 1\n",
      "value: 1, prediction: 1\n",
      "value: 1, prediction: 1\n",
      "value: 1, prediction: 1\n",
      "value: 1, prediction: 1\n",
      "value: 1, prediction: 1\n",
      "value: 1, prediction: 1\n",
      "value: 0, prediction: 1\n",
      "value: 0, prediction: 1\n",
      "value: 1, prediction: 1\n",
      "value: 1, prediction: 1\n",
      "value: 1, prediction: 1\n",
      "value: 1, prediction: 1\n",
      "value: 1, prediction: 1\n",
      "value: 1, prediction: 1\n",
      "value: 1, prediction: 1\n",
      "value: 1, prediction: 1\n",
      "value: 1, prediction: 1\n",
      "value: 1, prediction: 2\n",
      "value: 1, prediction: 2\n",
      "value: 1, prediction: 2\n",
      "value: 1, prediction: 2\n",
      "value: 1, prediction: 1\n",
      "value: 1, prediction: 1\n",
      "value: 0, prediction: 1\n",
      "value: 0, prediction: 1\n",
      "value: 1, prediction: 1\n",
      "value: 1, prediction: 1\n",
      "value: 1, prediction: 1\n",
      "value: 0, prediction: 2\n",
      "value: 1, prediction: 2\n",
      "value: 1, prediction: 2\n",
      "value: 1, prediction: 2\n",
      "value: 1, prediction: 2\n",
      "value: 0, prediction: 1\n",
      "value: 0, prediction: 1\n",
      "value: 0, prediction: 1\n",
      "value: 0, prediction: 1\n",
      "value: 0, prediction: 0\n",
      "value: 0, prediction: 0\n",
      "value: 0, prediction: 0\n",
      "value: 0, prediction: 0\n",
      "value: 0, prediction: 0\n",
      "value: 0, prediction: 0\n",
      "value: 0, prediction: 0\n",
      "value: 0, prediction: 0\n",
      "value: 0, prediction: 0\n",
      "value: 0, prediction: 0\n",
      "value: 0, prediction: 0\n",
      "value: 0, prediction: 0\n",
      "value: 0, prediction: 0\n",
      "value: 0, prediction: 0\n",
      "value: 0, prediction: 0\n",
      "value: 0, prediction: 0\n",
      "value: 0, prediction: 0\n",
      "value: 0, prediction: 0\n",
      "value: 0, prediction: 0\n",
      "value: 0, prediction: 0\n",
      "value: 0, prediction: 0\n",
      "value: 0, prediction: 0\n",
      "value: 0, prediction: 0\n",
      "value: 0, prediction: 0\n",
      "value: 0, prediction: 2\n",
      "value: 0, prediction: 2\n",
      "value: 0, prediction: 1\n",
      "value: 0, prediction: 1\n",
      "value: 0, prediction: 1\n"
     ]
    }
   ],
   "execution_count": 6
  },
  {
   "metadata": {
    "ExecuteTime": {
     "end_time": "2025-04-26T08:23:50.020048Z",
     "start_time": "2025-04-26T08:23:49.784665Z"
    }
   },
   "cell_type": "code",
   "source": [
    "folder = 'outputs/features'\n",
    "\n",
    "# Zbiór plików\n",
    "cosine_files = sorted(glob(os.path.join(folder, '*_cosine_feature.out')))\n",
    "count_files = sorted(glob(os.path.join(folder, '*_count_feature.out')))\n",
    "hr_files = sorted(glob(os.path.join(folder, '*_hr_feature.out')))\n",
    "time_files = sorted(glob(os.path.join(folder, '*_time_feature.out')))\n",
    "label_files = sorted(glob(os.path.join(folder, '*_psg_labels.out')))\n",
    "\n",
    "# Wyciągnięcie ID\n",
    "ids = [os.path.basename(f).split('_')[0] for f in cosine_files]\n",
    "unique_ids = sorted(list(set(ids)))\n",
    "\n",
    "print(f\"Znaleziono {len(unique_ids)} unikalnych ID: {unique_ids}\")\n",
    "\n",
    "# WYBIERZEMY 3 ID do testu\n",
    "test_ids = unique_ids[:3]  # np. pierwsze 3 ID\n",
    "train_ids = unique_ids[3:]\n",
    "\n",
    "print(f\"Test IDs: {test_ids}\")\n",
    "print(f\"Train IDs: {train_ids}\")\n",
    "\n",
    "# Funkcja wczytująca dane dla ID\n",
    "def load_data_for_ids(ids_list):\n",
    "    X = []\n",
    "    y = []\n",
    "\n",
    "    for id_ in ids_list:\n",
    "        cos_f = os.path.join(folder, f\"{id_}_cosine_feature.out\")\n",
    "        count_f = os.path.join(folder, f\"{id_}_count_feature.out\")\n",
    "        hr_f = os.path.join(folder, f\"{id_}_hr_feature.out\")\n",
    "        time_f = os.path.join(folder, f\"{id_}_time_feature.out\")\n",
    "        label_f = os.path.join(folder, f\"{id_}_psg_labels.out\")\n",
    "\n",
    "        cosine = np.loadtxt(cos_f)\n",
    "        count = np.loadtxt(count_f)\n",
    "        hr = np.loadtxt(hr_f)\n",
    "        time = np.loadtxt(time_f)\n",
    "        labels = np.loadtxt(label_f)\n",
    "\n",
    "        # Stack cech\n",
    "        features = np.stack([cosine, count, hr, time], axis=1)\n",
    "\n",
    "        X.append(features)\n",
    "        y.append(labels)\n",
    "\n",
    "    return X, y\n",
    "\n",
    "# Załaduj dane\n",
    "X_train_seq, y_train_seq = load_data_for_ids(train_ids)\n",
    "X_test_seq, y_test_seq = load_data_for_ids(test_ids)\n",
    "\n",
    "print(f\"Liczba nocy treningowych: {len(X_train_seq)}\")\n",
    "print(f\"Liczba nocy testowych: {len(X_test_seq)}\")\n"
   ],
   "id": "e132bad4134933ba",
   "outputs": [
    {
     "name": "stdout",
     "output_type": "stream",
     "text": [
      "Znaleziono 31 unikalnych ID: ['1066528', '1360686', '1449548', '1455390', '1818471', '2598705', '2638030', '3509524', '3997827', '4018081', '4314139', '4426783', '46343', '5132496', '5383425', '5498603', '5797046', '6220552', '759667', '7749105', '781756', '8000685', '8173033', '8258170', '844359', '8530312', '8686948', '8692923', '9106476', '9618981', '9961348']\n",
      "Test IDs: ['1066528', '1360686', '1449548']\n",
      "Train IDs: ['1455390', '1818471', '2598705', '2638030', '3509524', '3997827', '4018081', '4314139', '4426783', '46343', '5132496', '5383425', '5498603', '5797046', '6220552', '759667', '7749105', '781756', '8000685', '8173033', '8258170', '844359', '8530312', '8686948', '8692923', '9106476', '9618981', '9961348']\n",
      "Liczba nocy treningowych: 28\n",
      "Liczba nocy testowych: 3\n"
     ]
    }
   ],
   "execution_count": 59
  },
  {
   "metadata": {
    "ExecuteTime": {
     "end_time": "2025-04-26T08:24:39.592791Z",
     "start_time": "2025-04-26T08:24:39.567311Z"
    }
   },
   "cell_type": "code",
   "source": [
    "# Padding X i y (do max długości)\n",
    "max_len = max([x.shape[0] for x in X_train_seq + X_test_seq])\n",
    "\n",
    "X_train_padded = pad_sequences(X_train_seq, maxlen=max_len, dtype='float32', padding='post')\n",
    "y_train_padded = pad_sequences(y_train_seq, maxlen=max_len, dtype='int32', padding='post')\n",
    "\n",
    "X_test_padded = pad_sequences(X_test_seq, maxlen=max_len, dtype='float32', padding='post')\n",
    "y_test_padded = pad_sequences(y_test_seq, maxlen=max_len, dtype='int32', padding='post')\n",
    "\n",
    "print(f\"Nowe kształty: {X_train_padded.shape}, {y_train_padded.shape}\")"
   ],
   "id": "d5fb628352b47749",
   "outputs": [
    {
     "name": "stdout",
     "output_type": "stream",
     "text": [
      "Nowe kształty: (28, 978, 4), (28, 978)\n"
     ]
    }
   ],
   "execution_count": 61
  },
  {
   "metadata": {
    "ExecuteTime": {
     "end_time": "2025-04-26T08:25:51.018767Z",
     "start_time": "2025-04-26T08:25:09.691804Z"
    }
   },
   "cell_type": "code",
   "source": [
    "model = Sequential([\n",
    "    Masking(mask_value=0., input_shape=(X_train_padded.shape[1], X_train_padded.shape[2])),\n",
    "    LSTM(64, return_sequences=True),\n",
    "    Dense(32, activation='relu'),\n",
    "    Dense(6, activation='softmax')  # 6 klas snu: 0-5\n",
    "])\n",
    "\n",
    "model.compile(optimizer='adam',\n",
    "              loss='sparse_categorical_crossentropy',\n",
    "              metrics=['accuracy'])\n",
    "\n",
    "history = model.fit(X_train_padded, y_train_padded,\n",
    "                    epochs=30,\n",
    "                    batch_size=8,\n",
    "                    validation_split=0.2)"
   ],
   "id": "40c7cf32fc4d4163",
   "outputs": [
    {
     "name": "stderr",
     "output_type": "stream",
     "text": [
      "C:\\Users\\Gabi\\PycharmProjects\\sleep_classifiers\\venv\\lib\\site-packages\\keras\\src\\layers\\core\\masking.py:48: UserWarning: Do not pass an `input_shape`/`input_dim` argument to a layer. When using Sequential models, prefer using an `Input(shape)` object as the first layer in the model instead.\n",
      "  super().__init__(**kwargs)\n"
     ]
    },
    {
     "name": "stdout",
     "output_type": "stream",
     "text": [
      "Epoch 1/30\n",
      "\u001B[1m3/3\u001B[0m \u001B[32m━━━━━━━━━━━━━━━━━━━━\u001B[0m\u001B[37m\u001B[0m \u001B[1m5s\u001B[0m 565ms/step - accuracy: 0.2509 - loss: 1.7560 - val_accuracy: 0.5065 - val_loss: 1.6095\n",
      "Epoch 2/30\n",
      "\u001B[1m3/3\u001B[0m \u001B[32m━━━━━━━━━━━━━━━━━━━━\u001B[0m\u001B[37m\u001B[0m \u001B[1m1s\u001B[0m 369ms/step - accuracy: 0.4297 - loss: 1.5844 - val_accuracy: 0.5191 - val_loss: 1.5125\n",
      "Epoch 3/30\n",
      "\u001B[1m3/3\u001B[0m \u001B[32m━━━━━━━━━━━━━━━━━━━━\u001B[0m\u001B[37m\u001B[0m \u001B[1m1s\u001B[0m 353ms/step - accuracy: 0.4251 - loss: 1.4958 - val_accuracy: 0.5215 - val_loss: 1.4569\n",
      "Epoch 4/30\n",
      "\u001B[1m3/3\u001B[0m \u001B[32m━━━━━━━━━━━━━━━━━━━━\u001B[0m\u001B[37m\u001B[0m \u001B[1m1s\u001B[0m 351ms/step - accuracy: 0.4235 - loss: 1.4489 - val_accuracy: 0.5216 - val_loss: 1.4199\n",
      "Epoch 5/30\n",
      "\u001B[1m3/3\u001B[0m \u001B[32m━━━━━━━━━━━━━━━━━━━━\u001B[0m\u001B[37m\u001B[0m \u001B[1m1s\u001B[0m 361ms/step - accuracy: 0.4278 - loss: 1.3960 - val_accuracy: 0.5218 - val_loss: 1.3946\n",
      "Epoch 6/30\n",
      "\u001B[1m3/3\u001B[0m \u001B[32m━━━━━━━━━━━━━━━━━━━━\u001B[0m\u001B[37m\u001B[0m \u001B[1m1s\u001B[0m 343ms/step - accuracy: 0.4427 - loss: 1.3568 - val_accuracy: 0.5210 - val_loss: 1.3715\n",
      "Epoch 7/30\n",
      "\u001B[1m3/3\u001B[0m \u001B[32m━━━━━━━━━━━━━━━━━━━━\u001B[0m\u001B[37m\u001B[0m \u001B[1m1s\u001B[0m 361ms/step - accuracy: 0.4378 - loss: 1.3214 - val_accuracy: 0.5208 - val_loss: 1.3494\n",
      "Epoch 8/30\n",
      "\u001B[1m3/3\u001B[0m \u001B[32m━━━━━━━━━━━━━━━━━━━━\u001B[0m\u001B[37m\u001B[0m \u001B[1m1s\u001B[0m 340ms/step - accuracy: 0.4244 - loss: 1.3234 - val_accuracy: 0.5220 - val_loss: 1.3319\n",
      "Epoch 9/30\n",
      "\u001B[1m3/3\u001B[0m \u001B[32m━━━━━━━━━━━━━━━━━━━━\u001B[0m\u001B[37m\u001B[0m \u001B[1m1s\u001B[0m 356ms/step - accuracy: 0.3884 - loss: 1.3221 - val_accuracy: 0.5227 - val_loss: 1.3221\n",
      "Epoch 10/30\n",
      "\u001B[1m3/3\u001B[0m \u001B[32m━━━━━━━━━━━━━━━━━━━━\u001B[0m\u001B[37m\u001B[0m \u001B[1m1s\u001B[0m 346ms/step - accuracy: 0.4486 - loss: 1.2713 - val_accuracy: 0.5225 - val_loss: 1.3138\n",
      "Epoch 11/30\n",
      "\u001B[1m3/3\u001B[0m \u001B[32m━━━━━━━━━━━━━━━━━━━━\u001B[0m\u001B[37m\u001B[0m \u001B[1m1s\u001B[0m 359ms/step - accuracy: 0.4009 - loss: 1.2926 - val_accuracy: 0.5220 - val_loss: 1.3060\n",
      "Epoch 12/30\n",
      "\u001B[1m3/3\u001B[0m \u001B[32m━━━━━━━━━━━━━━━━━━━━\u001B[0m\u001B[37m\u001B[0m \u001B[1m1s\u001B[0m 344ms/step - accuracy: 0.4373 - loss: 1.2562 - val_accuracy: 0.5211 - val_loss: 1.2991\n",
      "Epoch 13/30\n",
      "\u001B[1m3/3\u001B[0m \u001B[32m━━━━━━━━━━━━━━━━━━━━\u001B[0m\u001B[37m\u001B[0m \u001B[1m1s\u001B[0m 366ms/step - accuracy: 0.4202 - loss: 1.2349 - val_accuracy: 0.5204 - val_loss: 1.2937\n",
      "Epoch 14/30\n",
      "\u001B[1m3/3\u001B[0m \u001B[32m━━━━━━━━━━━━━━━━━━━━\u001B[0m\u001B[37m\u001B[0m \u001B[1m1s\u001B[0m 344ms/step - accuracy: 0.4146 - loss: 1.2428 - val_accuracy: 0.5194 - val_loss: 1.2881\n",
      "Epoch 15/30\n",
      "\u001B[1m3/3\u001B[0m \u001B[32m━━━━━━━━━━━━━━━━━━━━\u001B[0m\u001B[37m\u001B[0m \u001B[1m1s\u001B[0m 340ms/step - accuracy: 0.4126 - loss: 1.2354 - val_accuracy: 0.5186 - val_loss: 1.2818\n",
      "Epoch 16/30\n",
      "\u001B[1m3/3\u001B[0m \u001B[32m━━━━━━━━━━━━━━━━━━━━\u001B[0m\u001B[37m\u001B[0m \u001B[1m1s\u001B[0m 354ms/step - accuracy: 0.4452 - loss: 1.1984 - val_accuracy: 0.5189 - val_loss: 1.2726\n",
      "Epoch 17/30\n",
      "\u001B[1m3/3\u001B[0m \u001B[32m━━━━━━━━━━━━━━━━━━━━\u001B[0m\u001B[37m\u001B[0m \u001B[1m1s\u001B[0m 357ms/step - accuracy: 0.4041 - loss: 1.1991 - val_accuracy: 0.5191 - val_loss: 1.2641\n",
      "Epoch 18/30\n",
      "\u001B[1m3/3\u001B[0m \u001B[32m━━━━━━━━━━━━━━━━━━━━\u001B[0m\u001B[37m\u001B[0m \u001B[1m1s\u001B[0m 353ms/step - accuracy: 0.4217 - loss: 1.1772 - val_accuracy: 0.5189 - val_loss: 1.2567\n",
      "Epoch 19/30\n",
      "\u001B[1m3/3\u001B[0m \u001B[32m━━━━━━━━━━━━━━━━━━━━\u001B[0m\u001B[37m\u001B[0m \u001B[1m1s\u001B[0m 358ms/step - accuracy: 0.4258 - loss: 1.1549 - val_accuracy: 0.5187 - val_loss: 1.2470\n",
      "Epoch 20/30\n",
      "\u001B[1m3/3\u001B[0m \u001B[32m━━━━━━━━━━━━━━━━━━━━\u001B[0m\u001B[37m\u001B[0m \u001B[1m1s\u001B[0m 397ms/step - accuracy: 0.4241 - loss: 1.1535 - val_accuracy: 0.5199 - val_loss: 1.2360\n",
      "Epoch 21/30\n",
      "\u001B[1m3/3\u001B[0m \u001B[32m━━━━━━━━━━━━━━━━━━━━\u001B[0m\u001B[37m\u001B[0m \u001B[1m1s\u001B[0m 358ms/step - accuracy: 0.4276 - loss: 1.1604 - val_accuracy: 0.5290 - val_loss: 1.2258\n",
      "Epoch 22/30\n",
      "\u001B[1m3/3\u001B[0m \u001B[32m━━━━━━━━━━━━━━━━━━━━\u001B[0m\u001B[37m\u001B[0m \u001B[1m1s\u001B[0m 360ms/step - accuracy: 0.4432 - loss: 1.1412 - val_accuracy: 0.5390 - val_loss: 1.2185\n",
      "Epoch 23/30\n",
      "\u001B[1m3/3\u001B[0m \u001B[32m━━━━━━━━━━━━━━━━━━━━\u001B[0m\u001B[37m\u001B[0m \u001B[1m1s\u001B[0m 378ms/step - accuracy: 0.4663 - loss: 1.1257 - val_accuracy: 0.5377 - val_loss: 1.2101\n",
      "Epoch 24/30\n",
      "\u001B[1m3/3\u001B[0m \u001B[32m━━━━━━━━━━━━━━━━━━━━\u001B[0m\u001B[37m\u001B[0m \u001B[1m1s\u001B[0m 370ms/step - accuracy: 0.4491 - loss: 1.1125 - val_accuracy: 0.5402 - val_loss: 1.2054\n",
      "Epoch 25/30\n",
      "\u001B[1m3/3\u001B[0m \u001B[32m━━━━━━━━━━━━━━━━━━━━\u001B[0m\u001B[37m\u001B[0m \u001B[1m1s\u001B[0m 389ms/step - accuracy: 0.4357 - loss: 1.1260 - val_accuracy: 0.5373 - val_loss: 1.1959\n",
      "Epoch 26/30\n",
      "\u001B[1m3/3\u001B[0m \u001B[32m━━━━━━━━━━━━━━━━━━━━\u001B[0m\u001B[37m\u001B[0m \u001B[1m1s\u001B[0m 387ms/step - accuracy: 0.4414 - loss: 1.0946 - val_accuracy: 0.5373 - val_loss: 1.1947\n",
      "Epoch 27/30\n",
      "\u001B[1m3/3\u001B[0m \u001B[32m━━━━━━━━━━━━━━━━━━━━\u001B[0m\u001B[37m\u001B[0m \u001B[1m1s\u001B[0m 334ms/step - accuracy: 0.4239 - loss: 1.0717 - val_accuracy: 0.5353 - val_loss: 1.2049\n",
      "Epoch 28/30\n",
      "\u001B[1m3/3\u001B[0m \u001B[32m━━━━━━━━━━━━━━━━━━━━\u001B[0m\u001B[37m\u001B[0m \u001B[1m3s\u001B[0m 1s/step - accuracy: 0.4457 - loss: 1.0822 - val_accuracy: 0.5351 - val_loss: 1.1912\n",
      "Epoch 29/30\n",
      "\u001B[1m3/3\u001B[0m \u001B[32m━━━━━━━━━━━━━━━━━━━━\u001B[0m\u001B[37m\u001B[0m \u001B[1m3s\u001B[0m 1s/step - accuracy: 0.4567 - loss: 1.0837 - val_accuracy: 0.5402 - val_loss: 1.1842\n",
      "Epoch 30/30\n",
      "\u001B[1m3/3\u001B[0m \u001B[32m━━━━━━━━━━━━━━━━━━━━\u001B[0m\u001B[37m\u001B[0m \u001B[1m3s\u001B[0m 956ms/step - accuracy: 0.4292 - loss: 1.1174 - val_accuracy: 0.5317 - val_loss: 1.1906\n"
     ]
    }
   ],
   "execution_count": 62
  },
  {
   "metadata": {
    "ExecuteTime": {
     "end_time": "2025-04-26T08:27:05.227475Z",
     "start_time": "2025-04-26T08:27:04.881845Z"
    }
   },
   "cell_type": "code",
   "source": [
    "y_pred_proba = model.predict(X_test_padded)\n",
    "y_pred = np.argmax(y_pred_proba, axis=-1)\n",
    "\n",
    "y_pred_flat = y_pred.flatten()\n",
    "y_true_flat = y_test_padded.flatten()\n",
    "\n",
    "mask = y_true_flat != 0  # lub != -1 zależnie od tego jak padujesz\n",
    "acc = accuracy_score(y_true_flat[mask], y_pred_flat[mask])\n",
    "\n",
    "print(\"Accuracy:\", acc)"
   ],
   "id": "188978188ac03e66",
   "outputs": [
    {
     "name": "stdout",
     "output_type": "stream",
     "text": [
      "\u001B[1m1/1\u001B[0m \u001B[32m━━━━━━━━━━━━━━━━━━━━\u001B[0m\u001B[37m\u001B[0m \u001B[1m0s\u001B[0m 241ms/step\n",
      "Accuracy: 0.5553618134263295\n"
     ]
    }
   ],
   "execution_count": 63
  },
  {
   "metadata": {},
   "cell_type": "markdown",
   "source": "# Najlepszy model\n",
   "id": "fa20c113bcca97af"
  },
  {
   "metadata": {
    "ExecuteTime": {
     "end_time": "2025-05-07T21:58:27.171406Z",
     "start_time": "2025-05-07T21:58:16.463622Z"
    }
   },
   "cell_type": "code",
   "source": [
    "clf = RandomForestClassifier(n_estimators=200, max_depth=10, max_features=None, min_samples_leaf=4, min_samples_split=2, random_state=42, class_weight={0: 2, 1: 1, 2: 2})\n",
    "clf.fit(X_train, y_train)\n",
    "\n",
    "dump(clf, 'model.joblib')"
   ],
   "id": "cd2a3f71e67ad68c",
   "outputs": [
    {
     "data": {
      "text/plain": [
       "['model.joblib']"
      ]
     },
     "execution_count": 75,
     "metadata": {},
     "output_type": "execute_result"
    }
   ],
   "execution_count": 75
  },
  {
   "metadata": {
    "ExecuteTime": {
     "end_time": "2025-05-09T20:09:02.081118Z",
     "start_time": "2025-05-09T20:09:01.929744Z"
    }
   },
   "cell_type": "code",
   "source": [
    "clf_loaded = load('model.joblib')\n",
    "y_pred = clf_loaded.predict(X_test)\n",
    "print(accuracy_score(y_test, y_pred))\n"
   ],
   "id": "d466f8b379475ea0",
   "outputs": [
    {
     "name": "stdout",
     "output_type": "stream",
     "text": [
      "0.7525004902922141\n"
     ]
    }
   ],
   "execution_count": 4
  }
 ],
 "metadata": {
  "kernelspec": {
   "display_name": "Python 3",
   "language": "python",
   "name": "python3"
  },
  "language_info": {
   "codemirror_mode": {
    "name": "ipython",
    "version": 2
   },
   "file_extension": ".py",
   "mimetype": "text/x-python",
   "name": "python",
   "nbconvert_exporter": "python",
   "pygments_lexer": "ipython2",
   "version": "2.7.6"
  }
 },
 "nbformat": 4,
 "nbformat_minor": 5
}
